{
 "cells": [
  {
   "cell_type": "markdown",
   "id": "7134ef8b",
   "metadata": {
    "papermill": {
     "duration": 0.002601,
     "end_time": "2025-04-19T21:43:10.662240",
     "exception": false,
     "start_time": "2025-04-19T21:43:10.659639",
     "status": "completed"
    },
    "tags": []
   },
   "source": [
    "**Use Case / Problem**\n",
    "\n",
    "In online discussions, debates, and academic settings, people often struggle to present strong arguments or anticipate counterarguments effectively. This leads to poor persuasion, weak reasoning, and a lack of critical thinking in public discourse.\n",
    "\n",
    "**How Generative AI Solves It**\n",
    "\n",
    "This project demonstrates how Generative AI can help users:\n",
    "- Strengthen their arguments,\n",
    "- Identify possible counterpoints,\n",
    "- Generate logical rebuttals.\n",
    "\n",
    "Using few-shot prompting, structured JSON output, and AI-driven evaluation, the system acts as a personal debate coach. It takes a user opinion and returns a well-structured set of arguments, helping users reason more clearly and think critically. This empowers users—students, debaters, or professionals—to communicate ideas with greater confidence and precision.\n"
   ]
  },
  {
   "cell_type": "code",
   "execution_count": 1,
   "id": "fa2838b8",
   "metadata": {
    "execution": {
     "iopub.execute_input": "2025-04-19T21:43:10.667009Z",
     "iopub.status.busy": "2025-04-19T21:43:10.666780Z",
     "iopub.status.idle": "2025-04-19T21:43:15.722836Z",
     "shell.execute_reply": "2025-04-19T21:43:15.721729Z"
    },
    "papermill": {
     "duration": 5.060218,
     "end_time": "2025-04-19T21:43:15.724419",
     "exception": false,
     "start_time": "2025-04-19T21:43:10.664201",
     "status": "completed"
    },
    "tags": []
   },
   "outputs": [
    {
     "name": "stdout",
     "output_type": "stream",
     "text": [
      "\u001b[2K   \u001b[90m━━━━━━━━━━━━━━━━━━━━━━━━━━━━━━━━━━━━━━━━\u001b[0m \u001b[32m159.7/159.7 kB\u001b[0m \u001b[31m5.6 MB/s\u001b[0m eta \u001b[36m0:00:00\u001b[0m\r\n",
      "\u001b[2K   \u001b[90m━━━━━━━━━━━━━━━━━━━━━━━━━━━━━━━━━━━━━━━━\u001b[0m \u001b[32m100.9/100.9 kB\u001b[0m \u001b[31m3.2 MB/s\u001b[0m eta \u001b[36m0:00:00\u001b[0m\r\n",
      "\u001b[?25h"
     ]
    }
   ],
   "source": [
    "!pip install -qU \"google-genai>=1.7.0\""
   ]
  },
  {
   "cell_type": "markdown",
   "id": "79e0ec75",
   "metadata": {
    "papermill": {
     "duration": 0.001865,
     "end_time": "2025-04-19T21:43:15.728929",
     "exception": false,
     "start_time": "2025-04-19T21:43:15.727064",
     "status": "completed"
    },
    "tags": []
   },
   "source": [
    "Import necessary modules, including:\n",
    "- `google.genai` for accessing GenAI models,\n",
    "- `kaggle_secrets` to securely use API keys stored in Kaggle,\n",
    "- `json` for parsing model responses."
   ]
  },
  {
   "cell_type": "code",
   "execution_count": 2,
   "id": "4c7f082d",
   "metadata": {
    "execution": {
     "iopub.execute_input": "2025-04-19T21:43:15.734246Z",
     "iopub.status.busy": "2025-04-19T21:43:15.733979Z",
     "iopub.status.idle": "2025-04-19T21:43:17.180235Z",
     "shell.execute_reply": "2025-04-19T21:43:17.179471Z"
    },
    "papermill": {
     "duration": 1.451068,
     "end_time": "2025-04-19T21:43:17.182097",
     "exception": false,
     "start_time": "2025-04-19T21:43:15.731029",
     "status": "completed"
    },
    "tags": []
   },
   "outputs": [],
   "source": [
    "from google import genai\n",
    "from kaggle_secrets import UserSecretsClient\n",
    "from google.genai import types\n",
    "import json\n",
    "\n",
    "user_secrets = UserSecretsClient()\n",
    "GOOGLE_API_KEY = user_secrets.get_secret(\"GOOGLE_API_KEY\")\n",
    "client = genai.Client(api_key=GOOGLE_API_KEY)\n",
    "\n",
    "MODEL_ID = \"models/gemini-2.0-flash-exp\""
   ]
  },
  {
   "cell_type": "markdown",
   "id": "a944651d",
   "metadata": {
    "papermill": {
     "duration": 0.002099,
     "end_time": "2025-04-19T21:43:17.186752",
     "exception": false,
     "start_time": "2025-04-19T21:43:17.184653",
     "status": "completed"
    },
    "tags": []
   },
   "source": [
    "This function constructs a structured prompt with examples to help the AI understand how to strengthen an argument, provide a counterargument, and generate a rebuttal.\n",
    "\n",
    "GenAI Capability:\n",
    "- Few-shot prompting\n",
    "- Structured output / JSON mode (model is explicitly asked to return JSON)\n"
   ]
  },
  {
   "cell_type": "code",
   "execution_count": 3,
   "id": "81e076c9",
   "metadata": {
    "execution": {
     "iopub.execute_input": "2025-04-19T21:43:17.191862Z",
     "iopub.status.busy": "2025-04-19T21:43:17.191465Z",
     "iopub.status.idle": "2025-04-19T21:43:20.186792Z",
     "shell.execute_reply": "2025-04-19T21:43:20.186109Z"
    },
    "papermill": {
     "duration": 2.999377,
     "end_time": "2025-04-19T21:43:20.188074",
     "exception": false,
     "start_time": "2025-04-19T21:43:17.188697",
     "status": "completed"
    },
    "tags": []
   },
   "outputs": [],
   "source": [
    "# Prompt with grounded context\n",
    "def build_few_shot_prompt(user_opinion):\n",
    "    example = \"\"\"\n",
    "Example:\n",
    "User opinion: \"Social media is harmful to mental health.\"\n",
    "\n",
    "{\n",
    "  \"strengthened_argument\": \"Studies show increased social media use correlates with anxiety and depression...\",\n",
    "  \"counter_argument\": \"Some argue social media fosters support networks...\",\n",
    "  \"rebuttal\": \"Support exists, but the design prioritizes engagement over mental well-being.\"\n",
    "}\n",
    "\"\"\"\n",
    "    return f\"\"\"\n",
    "You are an AI debate assistant.\n",
    "\n",
    "Respond ONLY in JSON with:\n",
    "- strengthened_argument\n",
    "- counter_argument\n",
    "- rebuttal\n",
    "\n",
    "{example}\n",
    "\n",
    "Now analyze:\n",
    "User opinion: \"{user_opinion}\"\n",
    "\"\"\"\n",
    "\n",
    "\n",
    "user_opinion = \"Climate change is real.\"\n",
    "prompt = build_few_shot_prompt(user_opinion)\n",
    "\n",
    "config_with_search = types.GenerateContentConfig(\n",
    "    tools=[types.Tool(google_search=types.GoogleSearch())],\n",
    ")\n",
    "\n",
    "response = client.models.generate_content(\n",
    "    model=MODEL_ID,\n",
    "    contents=prompt,\n",
    "    config=config_with_search,\n",
    ")"
   ]
  },
  {
   "cell_type": "markdown",
   "id": "a78516d7",
   "metadata": {
    "papermill": {
     "duration": 0.001819,
     "end_time": "2025-04-19T21:43:20.193552",
     "exception": false,
     "start_time": "2025-04-19T21:43:20.191733",
     "status": "completed"
    },
    "tags": []
   },
   "source": [
    "Helper function to extract valid JSON objects from raw model responses. It ensures proper parsing and cleanup of formatted text before loading it as structured data.\n",
    "\n",
    "GenAI Capability:\n",
    "- Structured output / JSON mode\n"
   ]
  },
  {
   "cell_type": "code",
   "execution_count": 4,
   "id": "98cd6c4d",
   "metadata": {
    "execution": {
     "iopub.execute_input": "2025-04-19T21:43:20.198507Z",
     "iopub.status.busy": "2025-04-19T21:43:20.198248Z",
     "iopub.status.idle": "2025-04-19T21:43:20.205008Z",
     "shell.execute_reply": "2025-04-19T21:43:20.204053Z"
    },
    "papermill": {
     "duration": 0.01081,
     "end_time": "2025-04-19T21:43:20.206293",
     "exception": false,
     "start_time": "2025-04-19T21:43:20.195483",
     "status": "completed"
    },
    "tags": []
   },
   "outputs": [
    {
     "name": "stdout",
     "output_type": "stream",
     "text": [
      "User opinion:  Climate change is real.\n",
      "📢 Strengthened Argument:\n",
      " Multiple lines of evidence, including rising global temperatures, melting ice sheets and glaciers, and ocean acidification, demonstrate that Earth's climate is changing rapidly. The scientific consensus, with over 97% agreement, attributes this change primarily to human activities, particularly the emission of greenhouse gases.\n",
      "\n",
      "⚔️ Counter-Argument:\n",
      " Some argue that climate change is a natural cycle, pointing to historical periods of warming and cooling. They may also claim that the impact of human emissions is negligible compared to natural factors, or that climate models are unreliable.\n",
      "\n",
      "🛡️ Rebuttal:\n",
      " While natural climate variability exists, the current rate of warming is unprecedented in recent history and far exceeds what can be explained by natural factors alone. Climate models, though simplifications of a complex system, have accurately predicted many observed trends and are continually refined. The overwhelming scientific consensus underscores the urgency of addressing human-caused climate change to mitigate its potentially catastrophic consequences. Furthermore, delaying action will result in far greater economic costs than acting now.\n"
     ]
    }
   ],
   "source": [
    "import json\n",
    "import re\n",
    "\n",
    "def extract_json_from_response(text):\n",
    "    # Try to find a JSON code block first\n",
    "    match = re.search(r\"```json(.*?)```\", text, re.DOTALL)\n",
    "    if match:\n",
    "        json_str = match.group(1).strip()\n",
    "    else:\n",
    "        # Fallback: find the first { ... } block\n",
    "        match = re.search(r\"{.*}\", text, re.DOTALL)\n",
    "        if match:\n",
    "            json_str = match.group(0).strip()\n",
    "        else:\n",
    "            return None\n",
    "\n",
    "    try:\n",
    "        return json.loads(json_str)\n",
    "    except json.JSONDecodeError:\n",
    "        return None\n",
    "\n",
    "parsed = extract_json_from_response(response.text)\n",
    "\n",
    "if parsed:\n",
    "    print(\"User opinion: \", user_opinion)\n",
    "    print(\"📢 Strengthened Argument:\\n\", parsed[\"strengthened_argument\"])\n",
    "    print(\"\\n⚔️ Counter-Argument:\\n\", parsed[\"counter_argument\"])\n",
    "    print(\"\\n🛡️ Rebuttal:\\n\", parsed[\"rebuttal\"])\n",
    "else:\n",
    "    print(\"⚠️ Still couldn't parse response. Raw output:\")\n",
    "    print(response.text)"
   ]
  },
  {
   "cell_type": "markdown",
   "id": "245c1fbf",
   "metadata": {
    "papermill": {
     "duration": 0.001804,
     "end_time": "2025-04-19T21:43:20.210572",
     "exception": false,
     "start_time": "2025-04-19T21:43:20.208768",
     "status": "completed"
    },
    "tags": []
   },
   "source": [
    "Creates an evaluation prompt to assess the generated arguments. It uses a rubric with metrics (Relevance, Logic, Clarity, etc.) to score model outputs on a scale of 1 to 5.\n",
    "\n",
    "Capability:\n",
    "- Gen AI evaluation (using the model to rate outputs)"
   ]
  },
  {
   "cell_type": "code",
   "execution_count": 5,
   "id": "536a85f6",
   "metadata": {
    "execution": {
     "iopub.execute_input": "2025-04-19T21:43:20.215693Z",
     "iopub.status.busy": "2025-04-19T21:43:20.215439Z",
     "iopub.status.idle": "2025-04-19T21:43:21.753015Z",
     "shell.execute_reply": "2025-04-19T21:43:21.752452Z"
    },
    "papermill": {
     "duration": 1.541812,
     "end_time": "2025-04-19T21:43:21.754397",
     "exception": false,
     "start_time": "2025-04-19T21:43:20.212585",
     "status": "completed"
    },
    "tags": []
   },
   "outputs": [],
   "source": [
    "# Evaluate the quality of the generated arguments\n",
    "evaluation_prompt = f\"\"\"You are a critical thinking expert.\n",
    "Evaluate the following debate arguments on a scale of 1 to 5 for:\n",
    "- Relevance\n",
    "- Logic\n",
    "- Persuasiveness\n",
    "\n",
    "Then provide brief feedback.\n",
    "\n",
    "Input:\n",
    "{json.dumps(parsed, indent=2)}\n",
    "\n",
    "Respond in JSON:\n",
    "{{\n",
    "  \"strengthened_argument_score\": ...,\n",
    "  \"counter_argument_score\": ...,\n",
    "  \"rebuttal_score\": ...,\n",
    "  \"feedback\": \"...\"\n",
    "}}\n",
    "\"\"\"\n",
    "\n",
    "eval_response = client.models.generate_content(\n",
    "    model=MODEL_ID,\n",
    "    contents=evaluation_prompt\n",
    ")"
   ]
  },
  {
   "cell_type": "markdown",
   "id": "c8ae548e",
   "metadata": {
    "papermill": {
     "duration": 0.001779,
     "end_time": "2025-04-19T21:43:21.758361",
     "exception": false,
     "start_time": "2025-04-19T21:43:21.756582",
     "status": "completed"
    },
    "tags": []
   },
   "source": [
    "Cleans up raw evaluation text from the model, removing Markdown formatting like triple backticks and ensuring valid JSON is returned.\n",
    "\n",
    "GenAI Capability:\n",
    "- Structured output / JSON mode"
   ]
  },
  {
   "cell_type": "code",
   "execution_count": 6,
   "id": "16a890cc",
   "metadata": {
    "execution": {
     "iopub.execute_input": "2025-04-19T21:43:21.762867Z",
     "iopub.status.busy": "2025-04-19T21:43:21.762644Z",
     "iopub.status.idle": "2025-04-19T21:43:21.767998Z",
     "shell.execute_reply": "2025-04-19T21:43:21.767127Z"
    },
    "papermill": {
     "duration": 0.008871,
     "end_time": "2025-04-19T21:43:21.769026",
     "exception": false,
     "start_time": "2025-04-19T21:43:21.760155",
     "status": "completed"
    },
    "tags": []
   },
   "outputs": [
    {
     "name": "stdout",
     "output_type": "stream",
     "text": [
      "🧪 Evaluation Scores:\n",
      "{\n",
      "  \"strengthened_argument_score\": {\n",
      "    \"Relevance\": 5,\n",
      "    \"Logic\": 5,\n",
      "    \"Persuasiveness\": 5\n",
      "  },\n",
      "  \"counter_argument_score\": {\n",
      "    \"Relevance\": 4,\n",
      "    \"Logic\": 3,\n",
      "    \"Persuasiveness\": 3\n",
      "  },\n",
      "  \"rebuttal_score\": {\n",
      "    \"Relevance\": 5,\n",
      "    \"Logic\": 5,\n",
      "    \"Persuasiveness\": 5\n",
      "  },\n",
      "  \"feedback\": \"The strengthened argument provides strong evidence and cites scientific consensus, making it very persuasive. The counter-argument raises relevant points, but lacks the robust evidence to back them up. The rebuttal effectively addresses the counter-argument's claims by highlighting the unprecedented rate of change, the validity of climate models, and the economic consequences of inaction. The rebuttal's use of 'overwhelming scientific consensus' is a rhetorical strength. Overall, the debate showcases a strong understanding of the issues.\"\n",
      "}\n"
     ]
    }
   ],
   "source": [
    "# Clean and display eval response\n",
    "eval_text = eval_response.text.strip()\n",
    "if eval_text.startswith(\"```json\"):\n",
    "    eval_text = re.sub(r\"^```json\\s*\", \"\", eval_text)\n",
    "    eval_text = re.sub(r\"```\\s*$\", \"\", eval_text)\n",
    "\n",
    "try:\n",
    "    eval_data = json.loads(eval_text)\n",
    "    print(\"🧪 Evaluation Scores:\")\n",
    "    print(json.dumps(eval_data, indent=2))\n",
    "except Exception as e:\n",
    "    print(\"⚠️ Could not parse evaluation response:\")\n",
    "    print(eval_response.text)"
   ]
  }
 ],
 "metadata": {
  "kaggle": {
   "accelerator": "none",
   "dataSources": [
    {
     "sourceId": 97258,
     "sourceType": "competition"
    }
   ],
   "dockerImageVersionId": 31012,
   "isGpuEnabled": false,
   "isInternetEnabled": true,
   "language": "python",
   "sourceType": "notebook"
  },
  "kernelspec": {
   "display_name": "Python 3",
   "language": "python",
   "name": "python3"
  },
  "language_info": {
   "codemirror_mode": {
    "name": "ipython",
    "version": 3
   },
   "file_extension": ".py",
   "mimetype": "text/x-python",
   "name": "python",
   "nbconvert_exporter": "python",
   "pygments_lexer": "ipython3",
   "version": "3.11.11"
  },
  "papermill": {
   "default_parameters": {},
   "duration": 15.250935,
   "end_time": "2025-04-19T21:43:22.288781",
   "environment_variables": {},
   "exception": null,
   "input_path": "__notebook__.ipynb",
   "output_path": "__notebook__.ipynb",
   "parameters": {},
   "start_time": "2025-04-19T21:43:07.037846",
   "version": "2.6.0"
  }
 },
 "nbformat": 4,
 "nbformat_minor": 5
}
